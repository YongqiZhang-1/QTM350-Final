{
 "cells": [
  {
   "cell_type": "markdown",
   "id": "294b4e69",
   "metadata": {},
   "source": [
    "# QTM 350 Final Project Group 2"
   ]
  },
  {
   "cell_type": "markdown",
   "id": "f4281709",
   "metadata": {},
   "source": [
    "# How do accents of different speakers influence the performance of Amazon Transcribe?"
   ]
  },
  {
   "cell_type": "markdown",
   "id": "bf346716",
   "metadata": {},
   "source": [
    "## Team Members"
   ]
  },
  {
   "cell_type": "markdown",
   "id": "78c86c54",
   "metadata": {},
   "source": [
    "### Aaron Zhang\n",
    "- year: class of *2022*\n",
    "- major: QSS\n",
    "- home: Jiangsu, China\n",
    "- hobbies: small animals and video games\n",
    "\n",
    "<left>\n",
    "<img src=\"https://github.com/cindyfangw/QTM350/blob/f0c03b82d8930608c9a3a6f41a2105c636f1be36/aaron.jpeg?raw=true\"\n",
    "     width=\"200\" height=\"150\">\n",
    "\n",
    "### Cindy Fang\n",
    "- year: class of *2023*\n",
    "- major: Applied Math & Stats and Chemistry\n",
    "- home: Beijing, China\n",
    "- hobbies: I love animals especially cats; I also love music and baking!\n",
    "\n",
    "<left>\n",
    "<img src=\"https://github.com/cindyfangw/QTM350/blob/1ec9f010e9203c90ce540215bf88f9c8d3e31856/IMG_3102.JPG?raw=true\"\n",
    "     width=\"200\" height=\"150\">\n",
    "\n",
    "### Kevin Ding\n",
    "- year: class of *2023*\n",
    "- major: Applied Math & Stats and Computer science\n",
    "- home: Shanghai, China\n",
    "- hobbies: Running, hiking, tennis\n",
    "\n",
    "<left>\n",
    "<img src=\"https://github.com/cindyfangw/QTM350/blob/1ec9f010e9203c90ce540215bf88f9c8d3e31856/IMG483.jpeg?raw=true\"\n",
    "     width=\"200\" height=\"150\">\n",
    "\n",
    "### Mary Yu\n",
    "- year: class of *2022*\n",
    "- major: Finance & Statistics\n",
    "- home: Beijing, China\n",
    "- hobbies: I love playing tennis and playing piano!\n",
    "\n",
    "<left>\n",
    "<img src=\"https://github.com/cindyfangw/QTM350/blob/1ec9f010e9203c90ce540215bf88f9c8d3e31856/IMG.jpg?raw=true\"\n",
    "     width=\"200\" height=\"150\">\n",
    "\n",
    "### Naye Li\n",
    "- year: class of *2023*\n",
    "- major: QSS - informatics\n",
    "- home: Beijing, China\n",
    "- hobbies: Photography and traveling!\n",
    "\n",
    "<left>\n",
    "<img src=\"https://github.com/cindyfangw/QTM350/blob/1ec9f010e9203c90ce540215bf88f9c8d3e31856/IMG2.jpeg?raw=true\"\n",
    "     width=\"200\" height=\"150\">\n",
    "\n",
    "### Annie Seo\n",
    "- year: class of *2023*\n",
    "- major: Applied Math & Stats, Music\n",
    "- home: Seattle, WA\n",
    "- hobbies: baking and hiking!\n",
    "\n",
    "<left>\n",
    "<img src=\"https://github.com/cindyfangw/QTM350/blob/ad49cd38857ceaf86c80bc71b732553ae90ea84d/annieseo.jpeg?raw=true\"\n",
    "     width=\"200\" height=\"150\">"
   ]
  },
  {
   "cell_type": "markdown",
   "id": "692a0f72",
   "metadata": {},
   "source": [
    "## Introduction"
   ]
  },
  {
   "cell_type": "markdown",
   "id": "55404a25",
   "metadata": {},
   "source": [
    "### Why We Choose AWS Service Amazon Transcribe?"
   ]
  },
  {
   "cell_type": "markdown",
   "id": "2dfd9d74",
   "metadata": {},
   "source": [
    "Last week, Kevin turned 22, and his friend gave him a gift, Amazon Alexa. He started talking to Alexa when he needed to find something quickly, for example, what is the weather today? Initially, Kevin thought Alexa could understand all his questions.\n",
    "However, this was simply not the case.\n",
    "Sometimes, he and his roommate said the exact same sentence, and Alexa would interpret it very differently.\n",
    "Thus, we were all wondering what’s going on behind the scene?\n"
   ]
  },
  {
   "cell_type": "markdown",
   "id": "a2f7df8e",
   "metadata": {},
   "source": [
    "### What is Amazon Transcribe?"
   ]
  },
  {
   "cell_type": "markdown",
   "id": "1df5c309",
   "metadata": {},
   "source": [
    "<img src=\"https://github.com/cindyfangw/QTM350/blob/0392cc65f9276917da58ceb44ecd4dbdea4cdc89/AmazonTranscribe.png?raw=true\"\n",
    "     width=\"200\" height=\"150\">"
   ]
  },
  {
   "cell_type": "markdown",
   "id": "72ae19c9",
   "metadata": {},
   "source": [
    "Amazon Transcribe makes it easy for developers to add speech to text capabilities to their applications. Audio data is virtually impossible for computers to search and analyze. Therefore, recorded speech needs to be converted to text before it can be used in applications. Historically, customers had to work with transcription providers that required them to sign expensive contracts and were hard to integrate into their technology stacks to accomplish this task. Many of these providers use outdated technology that does not adapt well to different scenarios, like low-fidelity phone audio common in contact centers, which results in poor accuracy.<br>\n",
    "\n",
    "Amazon Transcribe uses a deep learning process called automatic speech recognition (ASR) to convert speech to text quickly and accurately. Amazon Transcribe can be used to transcribe customer service calls, automate subtitling, and generate metadata for media assets to create a fully searchable archive. You can use Amazon Transcribe Medical to add medical speech to text capabilities to clinical documentation applications."
   ]
  },
  {
   "cell_type": "markdown",
   "id": "d3ca5e92",
   "metadata": {},
   "source": [
    "### Research Question"
   ]
  },
  {
   "cell_type": "markdown",
   "id": "05b89025",
   "metadata": {},
   "source": [
    "Based on Kevin's experience with Alexa, we thought investigating Amazon Transcribe, a service that “magically” puts speech into text, might answer our question.<br>\n",
    "Therefore, our research question is **“How do different speakers influence the performance of Amazon Transcribe?”**<br>\n",
    "Specifically, we look at the **accents** of different speakers to approach this question. In the proposal, we planned to investigate other metrics such as volume and pitch; However, we did not end up incorprating these metrics into our analysis because it's hard to measure or evaluate volume and pitch by just listening to the recordings. People have different standards towards this kinds of metrics."
   ]
  },
  {
   "cell_type": "markdown",
   "id": "d1e79e97",
   "metadata": {},
   "source": [
    "### Hypothesis"
   ]
  },
  {
   "cell_type": "markdown",
   "id": "1228c950",
   "metadata": {},
   "source": [
    "We suspect that Amazon Transcribe has a higher accuracy of translating speech from native speakers (students whose mother language is English) than from non-native speakers (students whose mother language is not English).\n",
    "We suspect this because often times, new technologies are often not inclusive of all races, genders, ethnicities, etc. A recently gone viral example is how  [Google Photos thought Black Woman was a Gorilla](https://www.bbc.com/news/technology-33347866) due to their flawed and noninclusive image labelling algorithms. For Amazon's case, [Amazon’s corporate employees are 47% white and 68.6% male](https://www.aboutamazon.com/news/workplace/our-workforce-data) Therefore, new tech will likely be made with a white man’s perspective as a basis, which could lead to Amazon Transcribe being most successful with native English speech."
   ]
  },
  {
   "cell_type": "markdown",
   "id": "e3b4ff9f",
   "metadata": {},
   "source": [
    "## Experimental Design"
   ]
  },
  {
   "cell_type": "markdown",
   "id": "4ac4eb01",
   "metadata": {},
   "source": [
    "### Research Methods"
   ]
  },
  {
   "cell_type": "markdown",
   "id": "7ca78278",
   "metadata": {},
   "source": [
    "We created a following attempt that summarize the most frequent types of question and conversation that people will talk to Alexa:\n",
    ">Alexa play “Wake Me Up When September Ends”. <br>\n",
    "Alexa volume up.<br>\n",
    "Alexa I’m boring so tell me a joke.<br>\n",
    "Alexa is it going to rain today? <br>\n",
    "Alexa what is today’s date?<br>\n",
    "Alexa what bus should I take to get to Emory University?<br>\n",
    "Alexa I broke up with my significant other and I’m really sad. What should I do?<br>\n",
    "Alexa I want to buy a birthday gift for my best friend, do you have any suggestions?<br>\n",
    "\n",
    "We recruit 20 people to participate in our research. These 20 people are divided into 4 groups, so each group is composed of 5 people. The four groups are stated following: non-native female, non-native male, native female, and native male. We asked them to read and record the above attempt in a normal tone and volume. To check the quality of the recordings, we listened to all 20 recordings and make sure the recording's volume and clarity are good. "
   ]
  },
  {
   "cell_type": "markdown",
   "id": "3f1dd4e9",
   "metadata": {},
   "source": [
    "### Architectural Diagram"
   ]
  },
  {
   "cell_type": "markdown",
   "id": "00184ec1",
   "metadata": {},
   "source": [
    "<img src=\"https://github.com/cindyfangw/QTM350/blob/6793282a83c7af2ad17128340267596bfb20abc0/Architect.png?raw=true\"\n",
    "     width=\"600\" height=\"350\">"
   ]
  },
  {
   "cell_type": "markdown",
   "id": "986cb63e",
   "metadata": {},
   "source": [
    "## Data Extraction"
   ]
  },
  {
   "cell_type": "markdown",
   "id": "a31e212f",
   "metadata": {},
   "source": [
    "### Walkthrough"
   ]
  },
  {
   "cell_type": "markdown",
   "id": "2aff9e2b",
   "metadata": {},
   "source": [
    "#### Step 1: setup S3 bucket "
   ]
  },
  {
   "cell_type": "markdown",
   "id": "b0ef8814",
   "metadata": {},
   "source": [
    "We first need to create a new S3 bucket via the AWS console. <br>\n",
    "\n",
    "In addition, we also need to attach a policy to current SageMaker Instance to allow Amazon Transcribe have full access:\n",
    "1. Go to IAM(Identity and Access Management)and go to Policies\n",
    "2. Search and Select \"AmazonTranscribeFullAccess\"\n",
    "3. Click Actions on the Right Corner and choose Attach\n",
    "\n",
    "We then upload all the collected voice recordings and the text files of the sample to our newly created bucket."
   ]
  },
  {
   "cell_type": "markdown",
   "id": "88e4e042",
   "metadata": {},
   "source": [
    "#### Step 2: setup the AWS CLI"
   ]
  },
  {
   "cell_type": "markdown",
   "id": "7bced821",
   "metadata": {},
   "source": [
    "The AWS CLI is preinstalled in any new Sagemaker instance, so we just need to run the following codes. It shows a list of commands that are available for working with S3 using command line"
   ]
  },
  {
   "cell_type": "code",
   "execution_count": 3,
   "id": "349e7e6f",
   "metadata": {},
   "outputs": [
    {
     "name": "stdout",
     "output_type": "stream",
     "text": [
      "S3()                                                                      S3()\r\n",
      "\r\n",
      "\r\n",
      "\r\n",
      "\u001b[1mNAME\u001b[0m\r\n",
      "       s3 -\r\n",
      "\r\n",
      "\u001b[1mDESCRIPTION\u001b[0m\r\n",
      "       This  section  explains  prominent concepts and notations in the set of\r\n",
      "       high-level S3 commands provided.\r\n",
      "\r\n",
      "   \u001b[1mPath Argument Type\u001b[0m\r\n",
      "       Whenever using a command, at least one path argument must be specified.\r\n",
      "       There are two types of path arguments: \u001b[1mLocalPath \u001b[22mand \u001b[1mS3Uri\u001b[22m.\r\n",
      "\r\n",
      "       \u001b[1mLocalPath\u001b[22m: represents the path of a local file or directory.  It can be\r\n",
      "       written as an absolute path or relative path.\r\n",
      "\r\n",
      "       \u001b[1mS3Uri\u001b[22m: represents the location of a S3 object, prefix, or bucket.  This\r\n",
      "       must  be  written in the form \u001b[1ms3://mybucket/mykey \u001b[22mwhere \u001b[1mmybucket \u001b[22mis the\r\n",
      "       specified S3 bucket, \u001b[1mmykey \u001b[22mis the specified S3 key.  The path  argument\r\n",
      "       must  begin with \u001b[1ms3:// \u001b[22min order to denote that the path argument refers\r\n",
      "       to a S3 object. Note that prefixes are separated  by  forward  slashes.\r\n",
      "       For  example, if the S3 object \u001b[1mmyobject \u001b[22mhad the prefix \u001b[1mmyprefix\u001b[22m, the S3\r\n",
      "       key would be \u001b[1mmyprefix/myobject\u001b[22m, and if the object  was  in  the  bucket\r\n",
      "       \u001b[1mmybucket\u001b[22m, the \u001b[1mS3Uri \u001b[22mwould be \u001b[1ms3://mybucket/myprefix/myobject\u001b[22m.\r\n",
      "\r\n",
      "       \u001b[1mS3Uri  \u001b[22malso supports S3 access points. To specify an access point, this\r\n",
      "       value must be of the form \u001b[1ms3://<access-point-arn>/<key>\u001b[22m. For example if\r\n",
      "       the   access   point   \u001b[1mmyaccesspoint   \u001b[22mto   be   used   has   the  ARN:\r\n",
      "       \u001b[1marn:aws:s3:us-west-2:123456789012:accesspoint/myaccesspoint   \u001b[22mand   the\r\n",
      "       object  being  accessed has the key \u001b[1mmykey\u001b[22m, then the \u001b[1mS3URI \u001b[22mused must be:\r\n",
      "       \u001b[1ms3://arn:aws:s3:us-west-2:123456789012:accesspoint/myaccesspoint/mykey\u001b[22m.\r\n",
      "       Similar  to  bucket  names, you can also use prefixes with access point\r\n",
      "       ARNs        for         the         \u001b[1mS3Uri\u001b[22m.         For         example:\r\n",
      "       \u001b[1ms3://arn:aws:s3:us-west-2:123456789012:accesspoint/myaccesspoint/mypre-\u001b[0m\r\n",
      "       \u001b[1mfix/\u001b[0m\r\n",
      "\r\n",
      "       The higher level \u001b[1ms3 \u001b[22mcommands do \u001b[1mnot \u001b[22msupport access point  object  ARNs.\r\n",
      "       For      example,      if      the     following     was     specified:\r\n",
      "       \u001b[1ms3://arn:aws:s3:us-west-2:123456789012:accesspoint/myaccess-\u001b[0m\r\n",
      "       \u001b[1mpoint/object/mykey   \u001b[22mthe   \u001b[1mS3URI   \u001b[22mwill   resolve  to  the  object  key\r\n",
      "       \u001b[1mobject/mykey\u001b[0m\r\n",
      "\r\n",
      "   \u001b[1mOrder of Path Arguments\u001b[0m\r\n",
      "       Every command takes one or two positional path  arguments.   The  first\r\n",
      "       path  argument represents the source, which is the local file/directory\r\n",
      "       or S3 object/prefix/bucket that is being referenced.   If  there  is  a\r\n",
      "       second path argument, it represents the destination, which is the local\r\n",
      "       file/directory or S3 object/prefix/bucket that is  being  operated  on.\r\n",
      "       Commands  with only one path argument do not have a destination because\r\n",
      "       the operation is being performed only on the source.\r\n",
      "\r\n",
      "   \u001b[1mSingle Local File and S3 Object Operations\u001b[0m\r\n",
      "       Some commands perform operations only on single files and  S3  objects.\r\n",
      "       The following commands are single file/object operations if no \u001b[1m--recur-\u001b[0m\r\n",
      "       \u001b[1msive \u001b[22mflag is provided.\r\n",
      "\r\n",
      "          +\bo \u001b[1mcp\u001b[0m\r\n",
      "\r\n",
      "          +\bo \u001b[1mmv\u001b[0m\r\n",
      "\r\n",
      "          +\bo \u001b[1mrm\u001b[0m\r\n",
      "\r\n",
      "       For this type of operation, the first path argument, the  source,  must\r\n",
      "       exist  and be a local file or S3 object.  The second path argument, the\r\n",
      "       destination, can be the name of  a  local  file,  local  directory,  S3\r\n",
      "       object, S3 prefix, or S3 bucket.\r\n",
      "\r\n",
      "       The  destination  is  indicated  as a local directory, S3 prefix, or S3\r\n",
      "       bucket if it ends with a forward slash or back slash.  The use of slash\r\n",
      "       depends  on  the  path argument type.  If the path argument is a \u001b[1mLocal-\u001b[0m\r\n",
      "       \u001b[1mPath\u001b[22m, the type of slash is the separator used by the operating  system.\r\n",
      "       If  the  path  is a \u001b[1mS3Uri\u001b[22m, the forward slash must always be used.  If a\r\n",
      "       slash is at the end of the destination, the destination file or  object\r\n",
      "       will  adopt the name of the source file or object.  Otherwise, if there\r\n",
      "       is no slash at the end, the file or object will be saved under the name\r\n",
      "       provided.  See examples in \u001b[1mcp \u001b[22mand \u001b[1mmv \u001b[22mto illustrate this description.\r\n",
      "\r\n",
      "   \u001b[1mDirectory and S3 Prefix Operations\u001b[0m\r\n",
      "       Some commands only perform operations on the contents of a local direc-\r\n",
      "       tory or S3 prefix/bucket.  Adding or omitting a forward slash  or  back\r\n",
      "       slash  to the end of any path argument, depending on its type, does not\r\n",
      "       affect the results of  the  operation.   The  following  commands  will\r\n",
      "       always result in a directory or S3 prefix/bucket operation:\r\n",
      "\r\n",
      "       +\bo \u001b[1msync\u001b[0m\r\n",
      "\r\n",
      "       +\bo \u001b[1mmb\u001b[0m\r\n",
      "\r\n",
      "       +\bo \u001b[1mrb\u001b[0m\r\n",
      "\r\n",
      "       +\bo \u001b[1mls\u001b[0m\r\n",
      "\r\n",
      "   \u001b[1mUse of Exclude and Include Filters\u001b[0m\r\n",
      "       Currently, there is no support for the use of UNIX style wildcards in a\r\n",
      "       command's  path  arguments.   However,  most  commands  have  \u001b[1m--exclude\u001b[0m\r\n",
      "       \u001b[1m\"<value>\"  \u001b[22mand  \u001b[1m--include  \"<value>\"  \u001b[22mparameters  that  can achieve the\r\n",
      "       desired result.  These parameters perform pattern  matching  to  either\r\n",
      "       exclude  or include a particular file or object.  The following pattern\r\n",
      "       symbols are supported.\r\n",
      "\r\n",
      "          +\bo \u001b[1m*\u001b[22m: Matches everything\r\n",
      "\r\n",
      "          +\bo \u001b[1m?\u001b[22m: Matches any single character\r\n",
      "\r\n",
      "          +\bo \u001b[1m[sequence]\u001b[22m: Matches any character in \u001b[1msequence\u001b[0m\r\n",
      "\r\n",
      "          +\bo \u001b[1m[!sequence]\u001b[22m: Matches any character not in \u001b[1msequence\u001b[0m\r\n",
      "\r\n",
      "       Any number of these parameters can be passed to a command.  You can  do\r\n",
      "       this  by  providing  an \u001b[1m--exclude \u001b[22mor \u001b[1m--include \u001b[22margument multiple times,\r\n",
      "       e.g.  \u001b[1m--include \"*.txt\" --include \"*.png\"\u001b[22m.   When  there  are  multiple\r\n",
      "       filters,  the rule is the filters that appear later in the command take\r\n",
      "       precedence over filters that appear earlier in the command.  For  exam-\r\n",
      "       ple, if the filter parameters passed to the command were\r\n",
      "\r\n",
      "          --exclude \"*\" --include \"*.txt\"\r\n",
      "\r\n",
      "       All  files  will  be  excluded from the command except for files ending\r\n",
      "       with \u001b[1m.txt  \u001b[22mHowever, if the order of the filter parameters  was  changed\r\n",
      "       to\r\n",
      "\r\n",
      "          --include \"*.txt\" --exclude \"*\"\r\n",
      "\r\n",
      "       All files will be excluded from the command.\r\n",
      "\r\n",
      "       Each  filter  is evaluated against the \u001b[1msource directory\u001b[22m.  If the source\r\n",
      "       location is a file instead of a directory, the directory containing the\r\n",
      "       file is used as the source directory.  For example, suppose you had the\r\n",
      "       following directory structure:\r\n",
      "\r\n",
      "          /tmp/foo/\r\n",
      "            .git/\r\n",
      "            |---config\r\n",
      "            |---description\r\n",
      "            foo.txt\r\n",
      "            bar.txt\r\n",
      "            baz.jpg\r\n",
      "\r\n",
      "       In the command \u001b[1maws s3 sync /tmp/foo s3://bucket/ \u001b[22mthe  source  directory\r\n",
      "       is  \u001b[1m/tmp/foo\u001b[22m.   Any  include/exclude filters will be evaluated with the\r\n",
      "       source directory prepended.  Below are several examples to  demonstrate\r\n",
      "       this.\r\n",
      "\r\n",
      "       Given  the directory structure above and the command \u001b[1maws s3 cp /tmp/foo\u001b[0m\r\n",
      "       \u001b[1ms3://bucket/ --recursive --exclude \".git/*\"\u001b[22m, the files \u001b[1m.git/config  \u001b[22mand\r\n",
      "       \u001b[1m.git/description  \u001b[22mwill be excluded from the files to upload because the\r\n",
      "       exclude filter \u001b[1m.git/* \u001b[22mwill have the source  prepended  to  the  filter.\r\n",
      "       This means that:\r\n",
      "\r\n",
      "          /tmp/foo/.git/* -> /tmp/foo/.git/config       (matches, should exclude)\r\n",
      "          /tmp/foo/.git/* -> /tmp/foo/.git/description  (matches, should exclude)\r\n",
      "          /tmp/foo/.git/* -> /tmp/foo/foo.txt  (does not match, should include)\r\n",
      "          /tmp/foo/.git/* -> /tmp/foo/bar.txt  (does not match, should include)\r\n",
      "          /tmp/foo/.git/* -> /tmp/foo/baz.jpg  (does not match, should include)\r\n",
      "\r\n",
      "       The  command  \u001b[1maws  s3  cp  /tmp/foo/ s3://bucket/ --recursive --exclude\u001b[0m\r\n",
      "       \u001b[1m\"ba*\" \u001b[22mwill exclude \u001b[1m/tmp/foo/bar.txt \u001b[22mand \u001b[1m/tmp/foo/baz.jpg\u001b[22m:\r\n",
      "\r\n",
      "          /tmp/foo/ba* -> /tmp/foo/.git/config      (does not match, should include)\r\n",
      "          /tmp/foo/ba* -> /tmp/foo/.git/description (does not match, should include)\r\n",
      "          /tmp/foo/ba* -> /tmp/foo/foo.txt          (does not match, should include)\r\n",
      "          /tmp/foo/ba* -> /tmp/foo/bar.txt  (matches, should exclude)\r\n",
      "          /tmp/foo/ba* -> /tmp/foo/baz.jpg  (matches, should exclude)\r\n",
      "\r\n",
      "       Note that, by default, \u001b[4mall\u001b[24m \u001b[4mfiles\u001b[24m \u001b[4mare\u001b[24m \u001b[4mincluded\u001b[24m.  This means that provid-\r\n",
      "       ing  \u001b[1monly  \u001b[22man  \u001b[1m--include  \u001b[22mfilter  will not change what files are trans-\r\n",
      "       ferred.  \u001b[1m--include \u001b[22mwill only re-include files that have  been  excluded\r\n",
      "       from an \u001b[1m--exclude \u001b[22mfilter.  If you only want to upload files with a par-\r\n",
      "       ticular extension, you need to first exclude all files, then re-include\r\n",
      "       the files with the particular extension.  This command will upload \u001b[1monly\u001b[0m\r\n",
      "       files ending with \u001b[1m.jpg\u001b[22m:\r\n",
      "\r\n",
      "          aws s3 cp /tmp/foo/ s3://bucket/ --recursive --exclude \"*\" --include \"*.jpg\"\r\n",
      "\r\n",
      "       If you wanted to include both \u001b[1m.jpg \u001b[22mfiles as well as \u001b[1m.txt \u001b[22mfiles you  can\r\n",
      "       run:\r\n",
      "\r\n",
      "          aws s3 cp /tmp/foo/ s3://bucket/ --recursive \\\r\n",
      "              --exclude \"*\" --include \"*.jpg\" --include \"*.txt\"\r\n",
      "\r\n",
      "       See 'aws help' for descriptions of global parameters.\r\n",
      "\r\n",
      "\u001b[1mSYNOPSIS\u001b[0m\r\n",
      "          aws s3 <Command> [<Arg> ...]\r\n",
      "\r\n",
      "\u001b[1mOPTIONS\u001b[0m\r\n",
      "       \u001b[4mNone\u001b[0m\r\n",
      "\r\n",
      "       See 'aws help' for descriptions of global parameters.\r\n",
      "\r\n",
      "\u001b[1mAVAILABLE COMMANDS\u001b[0m\r\n",
      "       +\bo cp\r\n",
      "\r\n",
      "       +\bo ls\r\n",
      "\r\n",
      "       +\bo mb\r\n",
      "\r\n",
      "       +\bo mv\r\n",
      "\r\n",
      "       +\bo presign\r\n",
      "\r\n",
      "       +\bo rb\r\n",
      "\r\n",
      "       +\bo rm\r\n",
      "\r\n",
      "       +\bo sync\r\n",
      "\r\n",
      "       +\bo website\r\n",
      "\r\n",
      "\r\n",
      "\r\n",
      "                                                                          S3()\r\n"
     ]
    }
   ],
   "source": [
    "!aws s3 help"
   ]
  },
  {
   "cell_type": "markdown",
   "id": "adbd457b",
   "metadata": {},
   "source": [
    "#### Step 3: Setup Amazon Transcribe and Start Transcription Jobs"
   ]
  },
  {
   "cell_type": "markdown",
   "id": "64e1a59c",
   "metadata": {},
   "source": [
    "We created a folder inside of our S3 bucket with all the Transcribe Sample json files that are needed for the Amazon Transcribe transcription services. We created a list that contains all the json files in the folder."
   ]
  },
  {
   "cell_type": "code",
   "execution_count": 6,
   "id": "80484c1c",
   "metadata": {},
   "outputs": [],
   "source": [
    "list = !ls finalJson"
   ]
  },
  {
   "cell_type": "code",
   "execution_count": 7,
   "id": "f1276230",
   "metadata": {},
   "outputs": [
    {
     "data": {
      "text/plain": [
       "['nativeFemale1.json',\n",
       " 'nativeFemale2.json',\n",
       " 'nativeFemale3.json',\n",
       " 'nativeFemale4.json',\n",
       " 'nativeFemale5.json',\n",
       " 'nativeMale1.json',\n",
       " 'nativeMale2.json',\n",
       " 'nativeMale3.json',\n",
       " 'nativeMale4.json',\n",
       " 'nativeMale5.json',\n",
       " 'nonNativeFemale1.json',\n",
       " 'nonNativeFemale2.json',\n",
       " 'nonNativeFemale3.json',\n",
       " 'nonNativeFemale4.json',\n",
       " 'nonNativeFemale5.json',\n",
       " 'nonNativeMale1.json',\n",
       " 'nonNativeMale2.json',\n",
       " 'nonNativeMale3.json',\n",
       " 'nonNativeMale4.json',\n",
       " 'nonNativeMale5.json']"
      ]
     },
     "execution_count": 7,
     "metadata": {},
     "output_type": "execute_result"
    }
   ],
   "source": [
    "list"
   ]
  },
  {
   "cell_type": "markdown",
   "id": "16d5bd68",
   "metadata": {},
   "source": [
    "Then we use the \"start-transcription-job\" built-in function to transcribe all the voice recordings by using Amazon Transcribe."
   ]
  },
  {
   "cell_type": "code",
   "execution_count": 5,
   "id": "b5615864",
   "metadata": {},
   "outputs": [
    {
     "name": "stdout",
     "output_type": "stream",
     "text": [
      "{\n",
      "    \"TranscriptionJob\": {\n",
      "        \"TranscriptionJobName\": \"nativeFemale1\",\n",
      "        \"TranscriptionJobStatus\": \"IN_PROGRESS\",\n",
      "        \"LanguageCode\": \"en-US\",\n",
      "        \"Media\": {\n",
      "            \"MediaFileUri\": \"s3://final-resources/finalRecordings/nativeFemale1.mp3\"\n",
      "        },\n",
      "        \"StartTime\": 1637964975.317,\n",
      "        \"CreationTime\": 1637964975.28\n",
      "    }\n",
      "}\n",
      "{\n",
      "    \"TranscriptionJob\": {\n",
      "        \"TranscriptionJobName\": \"nativeFemale2\",\n",
      "        \"TranscriptionJobStatus\": \"IN_PROGRESS\",\n",
      "        \"LanguageCode\": \"en-US\",\n",
      "        \"Media\": {\n",
      "            \"MediaFileUri\": \"s3://final-resources/finalRecordings/nativeFemale2.mp3\"\n",
      "        },\n",
      "        \"StartTime\": 1637964976.274,\n",
      "        \"CreationTime\": 1637964976.249\n",
      "    }\n",
      "}\n",
      "{\n",
      "    \"TranscriptionJob\": {\n",
      "        \"TranscriptionJobName\": \"nativeFemale3\",\n",
      "        \"TranscriptionJobStatus\": \"IN_PROGRESS\",\n",
      "        \"LanguageCode\": \"en-US\",\n",
      "        \"Media\": {\n",
      "            \"MediaFileUri\": \"s3://final-resources/finalRecordings/nativeFemale3.mp3\"\n",
      "        },\n",
      "        \"StartTime\": 1637964977.202,\n",
      "        \"CreationTime\": 1637964977.175\n",
      "    }\n",
      "}\n",
      "{\n",
      "    \"TranscriptionJob\": {\n",
      "        \"TranscriptionJobName\": \"nativeFemale4\",\n",
      "        \"TranscriptionJobStatus\": \"IN_PROGRESS\",\n",
      "        \"LanguageCode\": \"en-US\",\n",
      "        \"Media\": {\n",
      "            \"MediaFileUri\": \"s3://final-resources/finalRecordings/nativeFemale4.mp3\"\n",
      "        },\n",
      "        \"StartTime\": 1637964978.171,\n",
      "        \"CreationTime\": 1637964978.149\n",
      "    }\n",
      "}\n",
      "{\n",
      "    \"TranscriptionJob\": {\n",
      "        \"TranscriptionJobName\": \"nativeFemale5\",\n",
      "        \"TranscriptionJobStatus\": \"IN_PROGRESS\",\n",
      "        \"LanguageCode\": \"en-US\",\n",
      "        \"Media\": {\n",
      "            \"MediaFileUri\": \"s3://final-resources/finalRecordings/nativeFemale5.mp3\"\n",
      "        },\n",
      "        \"StartTime\": 1637964979.13,\n",
      "        \"CreationTime\": 1637964979.108\n",
      "    }\n",
      "}\n",
      "{\n",
      "    \"TranscriptionJob\": {\n",
      "        \"TranscriptionJobName\": \"nativeMale1\",\n",
      "        \"TranscriptionJobStatus\": \"IN_PROGRESS\",\n",
      "        \"LanguageCode\": \"en-US\",\n",
      "        \"Media\": {\n",
      "            \"MediaFileUri\": \"s3://final-resources/finalRecordings/nativeMale1.mp3\"\n",
      "        },\n",
      "        \"StartTime\": 1637964980.111,\n",
      "        \"CreationTime\": 1637964980.085\n",
      "    }\n",
      "}\n",
      "{\n",
      "    \"TranscriptionJob\": {\n",
      "        \"TranscriptionJobName\": \"nativeMale2\",\n",
      "        \"TranscriptionJobStatus\": \"IN_PROGRESS\",\n",
      "        \"LanguageCode\": \"en-US\",\n",
      "        \"Media\": {\n",
      "            \"MediaFileUri\": \"s3://final-resources/finalRecordings/nativeMale2.mp3\"\n",
      "        },\n",
      "        \"StartTime\": 1637964981.093,\n",
      "        \"CreationTime\": 1637964981.069\n",
      "    }\n",
      "}\n",
      "{\n",
      "    \"TranscriptionJob\": {\n",
      "        \"TranscriptionJobName\": \"nativeMale3\",\n",
      "        \"TranscriptionJobStatus\": \"IN_PROGRESS\",\n",
      "        \"LanguageCode\": \"en-US\",\n",
      "        \"Media\": {\n",
      "            \"MediaFileUri\": \"s3://final-resources/finalRecordings/nativeMale3.mp3\"\n",
      "        },\n",
      "        \"StartTime\": 1637964982.163,\n",
      "        \"CreationTime\": 1637964982.14\n",
      "    }\n",
      "}\n",
      "{\n",
      "    \"TranscriptionJob\": {\n",
      "        \"TranscriptionJobName\": \"nativeMale4\",\n",
      "        \"TranscriptionJobStatus\": \"IN_PROGRESS\",\n",
      "        \"LanguageCode\": \"en-US\",\n",
      "        \"Media\": {\n",
      "            \"MediaFileUri\": \"s3://final-resources/finalRecordings/nativeMale4.mp3\"\n",
      "        },\n",
      "        \"StartTime\": 1637964983.201,\n",
      "        \"CreationTime\": 1637964983.176\n",
      "    }\n",
      "}\n",
      "{\n",
      "    \"TranscriptionJob\": {\n",
      "        \"TranscriptionJobName\": \"nativeMale5\",\n",
      "        \"TranscriptionJobStatus\": \"IN_PROGRESS\",\n",
      "        \"LanguageCode\": \"en-US\",\n",
      "        \"Media\": {\n",
      "            \"MediaFileUri\": \"s3://final-resources/finalRecordings/nativeMale5.mp3\"\n",
      "        },\n",
      "        \"StartTime\": 1637964984.09,\n",
      "        \"CreationTime\": 1637964984.064\n",
      "    }\n",
      "}\n",
      "{\n",
      "    \"TranscriptionJob\": {\n",
      "        \"TranscriptionJobName\": \"nonNativeFemale1\",\n",
      "        \"TranscriptionJobStatus\": \"IN_PROGRESS\",\n",
      "        \"LanguageCode\": \"en-US\",\n",
      "        \"Media\": {\n",
      "            \"MediaFileUri\": \"s3://final-resources/finalRecordings/nonNativeFemale1.mp3\"\n",
      "        },\n",
      "        \"StartTime\": 1637964985.027,\n",
      "        \"CreationTime\": 1637964985.003\n",
      "    }\n",
      "}\n",
      "{\n",
      "    \"TranscriptionJob\": {\n",
      "        \"TranscriptionJobName\": \"nonNativeFemale2\",\n",
      "        \"TranscriptionJobStatus\": \"IN_PROGRESS\",\n",
      "        \"LanguageCode\": \"en-US\",\n",
      "        \"Media\": {\n",
      "            \"MediaFileUri\": \"s3://final-resources/finalRecordings/nonNativeFemale2.mp3\"\n",
      "        },\n",
      "        \"StartTime\": 1637964985.988,\n",
      "        \"CreationTime\": 1637964985.964\n",
      "    }\n",
      "}\n",
      "{\n",
      "    \"TranscriptionJob\": {\n",
      "        \"TranscriptionJobName\": \"nonNativeFemale3\",\n",
      "        \"TranscriptionJobStatus\": \"IN_PROGRESS\",\n",
      "        \"LanguageCode\": \"en-US\",\n",
      "        \"Media\": {\n",
      "            \"MediaFileUri\": \"s3://final-resources/finalRecordings/nonNativeFemale3.mp3\"\n",
      "        },\n",
      "        \"StartTime\": 1637964986.944,\n",
      "        \"CreationTime\": 1637964986.912\n",
      "    }\n",
      "}\n",
      "{\n",
      "    \"TranscriptionJob\": {\n",
      "        \"TranscriptionJobName\": \"nonNativeFemale4\",\n",
      "        \"TranscriptionJobStatus\": \"IN_PROGRESS\",\n",
      "        \"LanguageCode\": \"en-US\",\n",
      "        \"Media\": {\n",
      "            \"MediaFileUri\": \"s3://final-resources/finalRecordings/nonNativeFemale4.mp3\"\n",
      "        },\n",
      "        \"StartTime\": 1637964987.881,\n",
      "        \"CreationTime\": 1637964987.837\n",
      "    }\n",
      "}\n",
      "{\n",
      "    \"TranscriptionJob\": {\n",
      "        \"TranscriptionJobName\": \"nonNativeFemale5\",\n",
      "        \"TranscriptionJobStatus\": \"IN_PROGRESS\",\n",
      "        \"LanguageCode\": \"en-US\",\n",
      "        \"Media\": {\n",
      "            \"MediaFileUri\": \"s3://final-resources/finalRecordings/nonNativeFemale5.mp3\"\n",
      "        },\n",
      "        \"StartTime\": 1637964988.745,\n",
      "        \"CreationTime\": 1637964988.722\n",
      "    }\n",
      "}\n",
      "{\n",
      "    \"TranscriptionJob\": {\n",
      "        \"TranscriptionJobName\": \"nonNativeMale1\",\n",
      "        \"TranscriptionJobStatus\": \"IN_PROGRESS\",\n",
      "        \"LanguageCode\": \"en-US\",\n",
      "        \"Media\": {\n",
      "            \"MediaFileUri\": \"s3://final-resources/finalRecordings/nonNativeMale1.mp3\"\n",
      "        },\n",
      "        \"StartTime\": 1637964989.679,\n",
      "        \"CreationTime\": 1637964989.649\n",
      "    }\n",
      "}\n",
      "{\n",
      "    \"TranscriptionJob\": {\n",
      "        \"TranscriptionJobName\": \"nonNativeMale2\",\n",
      "        \"TranscriptionJobStatus\": \"IN_PROGRESS\",\n",
      "        \"LanguageCode\": \"en-US\",\n",
      "        \"Media\": {\n",
      "            \"MediaFileUri\": \"s3://final-resources/finalRecordings/nonNativeMale2.mp3\"\n",
      "        },\n",
      "        \"StartTime\": 1637964990.691,\n",
      "        \"CreationTime\": 1637964990.666\n",
      "    }\n",
      "}\n",
      "{\n",
      "    \"TranscriptionJob\": {\n",
      "        \"TranscriptionJobName\": \"nonNativeMale3\",\n",
      "        \"TranscriptionJobStatus\": \"IN_PROGRESS\",\n",
      "        \"LanguageCode\": \"en-US\",\n",
      "        \"Media\": {\n",
      "            \"MediaFileUri\": \"s3://final-resources/finalRecordings/nonNativeMale3.mp3\"\n",
      "        },\n",
      "        \"StartTime\": 1637964991.636,\n",
      "        \"CreationTime\": 1637964991.614\n",
      "    }\n",
      "}\n",
      "{\n",
      "    \"TranscriptionJob\": {\n",
      "        \"TranscriptionJobName\": \"nonNativeMale4\",\n",
      "        \"TranscriptionJobStatus\": \"IN_PROGRESS\",\n",
      "        \"LanguageCode\": \"en-US\",\n",
      "        \"Media\": {\n",
      "            \"MediaFileUri\": \"s3://final-resources/finalRecordings/nonNativeMale4.mp3\"\n",
      "        },\n",
      "        \"StartTime\": 1637964992.542,\n",
      "        \"CreationTime\": 1637964992.519\n",
      "    }\n",
      "}\n",
      "{\n",
      "    \"TranscriptionJob\": {\n",
      "        \"TranscriptionJobName\": \"nonNativeMale5\",\n",
      "        \"TranscriptionJobStatus\": \"IN_PROGRESS\",\n",
      "        \"LanguageCode\": \"en-US\",\n",
      "        \"Media\": {\n",
      "            \"MediaFileUri\": \"s3://final-resources/finalRecordings/nonNativeMale5.mp3\"\n",
      "        },\n",
      "        \"StartTime\": 1637964993.469,\n",
      "        \"CreationTime\": 1637964993.444\n",
      "    }\n",
      "}\n"
     ]
    }
   ],
   "source": [
    "# loop through all files to get transcriptions\n",
    "for filename in list:\n",
    "    !aws transcribe start-transcription-job \\\n",
    "        --cli-input-json file://finalJson/{filename}"
   ]
  },
  {
   "cell_type": "markdown",
   "id": "1a22e6b3",
   "metadata": {},
   "source": [
    "After the transcription, Amazon Transcribe will yield a document called \"Alexa-[name]-Text.json\" and we downloaded these files."
   ]
  },
  {
   "cell_type": "code",
   "execution_count": 8,
   "id": "b95b4063",
   "metadata": {},
   "outputs": [
    {
     "name": "stdout",
     "output_type": "stream",
     "text": [
      "download: s3://final-resources/nativeFemale1.json to ./nativeFemale1.json\n",
      "download: s3://final-resources/nativeFemale2.json to ./nativeFemale2.json\n",
      "download: s3://final-resources/nativeFemale3.json to ./nativeFemale3.json\n",
      "download: s3://final-resources/nativeFemale4.json to ./nativeFemale4.json\n",
      "download: s3://final-resources/nativeFemale5.json to ./nativeFemale5.json\n",
      "download: s3://final-resources/nativeMale1.json to ./nativeMale1.json\n",
      "download: s3://final-resources/nativeMale2.json to ./nativeMale2.json\n",
      "download: s3://final-resources/nativeMale3.json to ./nativeMale3.json\n",
      "download: s3://final-resources/nativeMale4.json to ./nativeMale4.json\n",
      "download: s3://final-resources/nativeMale5.json to ./nativeMale5.json\n",
      "download: s3://final-resources/nonNativeFemale1.json to ./nonNativeFemale1.json\n",
      "download: s3://final-resources/nonNativeFemale2.json to ./nonNativeFemale2.json\n",
      "download: s3://final-resources/nonNativeFemale3.json to ./nonNativeFemale3.json\n",
      "download: s3://final-resources/nonNativeFemale4.json to ./nonNativeFemale4.json\n",
      "download: s3://final-resources/nonNativeFemale5.json to ./nonNativeFemale5.json\n",
      "download: s3://final-resources/nonNativeMale1.json to ./nonNativeMale1.json\n",
      "download: s3://final-resources/nonNativeMale2.json to ./nonNativeMale2.json\n",
      "download: s3://final-resources/nonNativeMale3.json to ./nonNativeMale3.json\n",
      "download: s3://final-resources/nonNativeMale4.json to ./nonNativeMale4.json\n",
      "download: s3://final-resources/nonNativeMale5.json to ./nonNativeMale5.json\n"
     ]
    }
   ],
   "source": [
    "for filename in list:\n",
    "    !aws s3 cp s3://final-resources/{filename} {filename}"
   ]
  },
  {
   "cell_type": "markdown",
   "id": "72b23f76",
   "metadata": {},
   "source": [
    "#### Step 4: Extract Transcribed Text from downloaded JSON file"
   ]
  },
  {
   "cell_type": "code",
   "execution_count": 9,
   "id": "44455d38",
   "metadata": {},
   "outputs": [],
   "source": [
    "import pandas as pd\n",
    "import json"
   ]
  },
  {
   "cell_type": "markdown",
   "id": "0faa3d99",
   "metadata": {},
   "source": [
    "We extract all the transcriptions and store them in the \".txt\" format"
   ]
  },
  {
   "cell_type": "code",
   "execution_count": 16,
   "id": "8fb5c76a",
   "metadata": {},
   "outputs": [],
   "source": [
    "# write the files into texts and store them\n",
    "for filename in list:\n",
    "    with open(filename, \"r\") as f:\n",
    "        array = json.load(f)\n",
    "    textfile = filename[0:len(filename)-5]+\".txt\"\n",
    "    with open(\"finalTranscriptions/\"+textfile, \"w\") as t:\n",
    "        t.write(array[\"results\"][\"transcripts\"][0][\"transcript\"])"
   ]
  },
  {
   "cell_type": "markdown",
   "id": "7b7f6edf",
   "metadata": {},
   "source": [
    "Amazon Transcribe also provides services of generating the confidence level of the transcription. We also extracted the confidence score and store them in a csv file"
   ]
  },
  {
   "cell_type": "code",
   "execution_count": 30,
   "id": "d25f0e45",
   "metadata": {},
   "outputs": [],
   "source": [
    "# record the confidence into csv files and store them\n",
    "for filename in list:\n",
    "    with open(filename, \"r\") as f:\n",
    "        array = json.load(f)\n",
    "    dict = {}\n",
    "    index = 0\n",
    "    csvfile = filename[0:len(filename)-5]+\".csv\"\n",
    "    for i in range(len(array['results']['items'])):\n",
    "        if array['results']['items'][i]['type'] != 'punctuation':\n",
    "            index += 1\n",
    "            dict[index] = [array['results']['items'][i]['alternatives'][0]['confidence'], array['results']['items'][i]['alternatives'][0]['content']]\n",
    "    DF = pd.DataFrame.from_dict(dict, orient='index', columns = [\"confidence\", \"content\"])\n",
    "    DF.to_csv('finalConfidence/'+csvfile, encoding='utf-8', index=False)"
   ]
  },
  {
   "cell_type": "markdown",
   "id": "aeca214e",
   "metadata": {},
   "source": [
    "### Dataset Description"
   ]
  },
  {
   "cell_type": "markdown",
   "id": "38df2a9f",
   "metadata": {},
   "source": [
    "We generate 20 text files after transcription jobs. These 20 text files and the identity of the 20 people participated in our research make up our whole dataset. We didn't include the audio generated by Amazon Polly because we already have enough human inputs, and we thought it's better to keep all our data generated by human. All the text files and recordings (audio files) can be viewed on [Our Github Repository](https://github.com/YongqiZhang-1/QTM350-Final)."
   ]
  },
  {
   "cell_type": "markdown",
   "id": "6719202e",
   "metadata": {},
   "source": [
    "## Data Analysis and Data Visualization"
   ]
  },
  {
   "cell_type": "markdown",
   "id": "d9a2e7ad",
   "metadata": {},
   "source": [
    "To analyze our dataset, we created an algorithm to measure the accuracy of the transcription. The details of this algorithm is shown below."
   ]
  },
  {
   "cell_type": "markdown",
   "id": "c181de99",
   "metadata": {},
   "source": [
    "### Data Analysis"
   ]
  },
  {
   "cell_type": "markdown",
   "id": "17bae08b",
   "metadata": {},
   "source": [
    "First, we use pip and spacy to import nlp tools for analyzing transcribe accuracy."
   ]
  },
  {
   "cell_type": "code",
   "execution_count": 36,
   "id": "dea3650f",
   "metadata": {},
   "outputs": [
    {
     "name": "stdout",
     "output_type": "stream",
     "text": [
      "Requirement already satisfied: spacy in /home/ec2-user/anaconda3/envs/python3/lib/python3.6/site-packages (3.2.0)\n",
      "Requirement already satisfied: numpy>=1.15.0 in /home/ec2-user/anaconda3/envs/python3/lib/python3.6/site-packages (from spacy) (1.19.5)\n",
      "Requirement already satisfied: jinja2 in /home/ec2-user/anaconda3/envs/python3/lib/python3.6/site-packages (from spacy) (2.11.3)\n",
      "Requirement already satisfied: spacy-legacy<3.1.0,>=3.0.8 in /home/ec2-user/anaconda3/envs/python3/lib/python3.6/site-packages (from spacy) (3.0.8)\n",
      "Requirement already satisfied: tqdm<5.0.0,>=4.38.0 in /home/ec2-user/anaconda3/envs/python3/lib/python3.6/site-packages (from spacy) (4.62.3)\n",
      "Requirement already satisfied: thinc<8.1.0,>=8.0.12 in /home/ec2-user/anaconda3/envs/python3/lib/python3.6/site-packages (from spacy) (8.0.13)\n",
      "Requirement already satisfied: typer<0.5.0,>=0.3.0 in /home/ec2-user/anaconda3/envs/python3/lib/python3.6/site-packages (from spacy) (0.4.0)\n",
      "Requirement already satisfied: preshed<3.1.0,>=3.0.2 in /home/ec2-user/anaconda3/envs/python3/lib/python3.6/site-packages (from spacy) (3.0.6)\n",
      "Requirement already satisfied: pydantic!=1.8,!=1.8.1,<1.9.0,>=1.7.4 in /home/ec2-user/anaconda3/envs/python3/lib/python3.6/site-packages (from spacy) (1.8.2)\n",
      "Requirement already satisfied: requests<3.0.0,>=2.13.0 in /home/ec2-user/anaconda3/envs/python3/lib/python3.6/site-packages (from spacy) (2.26.0)\n",
      "Requirement already satisfied: blis<0.8.0,>=0.4.0 in /home/ec2-user/anaconda3/envs/python3/lib/python3.6/site-packages (from spacy) (0.7.5)\n",
      "Requirement already satisfied: typing-extensions<4.0.0.0,>=3.7.4 in /home/ec2-user/anaconda3/envs/python3/lib/python3.6/site-packages (from spacy) (3.10.0.2)\n",
      "Requirement already satisfied: spacy-loggers<2.0.0,>=1.0.0 in /home/ec2-user/anaconda3/envs/python3/lib/python3.6/site-packages (from spacy) (1.0.1)\n",
      "Requirement already satisfied: setuptools in /home/ec2-user/anaconda3/envs/python3/lib/python3.6/site-packages (from spacy) (58.5.3)\n",
      "Requirement already satisfied: wasabi<1.1.0,>=0.8.1 in /home/ec2-user/anaconda3/envs/python3/lib/python3.6/site-packages (from spacy) (0.8.2)\n",
      "Requirement already satisfied: langcodes<4.0.0,>=3.2.0 in /home/ec2-user/anaconda3/envs/python3/lib/python3.6/site-packages (from spacy) (3.3.0)\n",
      "Requirement already satisfied: murmurhash<1.1.0,>=0.28.0 in /home/ec2-user/anaconda3/envs/python3/lib/python3.6/site-packages (from spacy) (1.0.6)\n",
      "Requirement already satisfied: pathy>=0.3.5 in /home/ec2-user/anaconda3/envs/python3/lib/python3.6/site-packages (from spacy) (0.6.1)\n",
      "Requirement already satisfied: catalogue<2.1.0,>=2.0.6 in /home/ec2-user/anaconda3/envs/python3/lib/python3.6/site-packages (from spacy) (2.0.6)\n",
      "Requirement already satisfied: cymem<2.1.0,>=2.0.2 in /home/ec2-user/anaconda3/envs/python3/lib/python3.6/site-packages (from spacy) (2.0.6)\n",
      "Requirement already satisfied: packaging>=20.0 in /home/ec2-user/anaconda3/envs/python3/lib/python3.6/site-packages (from spacy) (21.2)\n",
      "Requirement already satisfied: srsly<3.0.0,>=2.4.1 in /home/ec2-user/anaconda3/envs/python3/lib/python3.6/site-packages (from spacy) (2.4.2)\n",
      "Requirement already satisfied: zipp>=0.5 in /home/ec2-user/anaconda3/envs/python3/lib/python3.6/site-packages (from catalogue<2.1.0,>=2.0.6->spacy) (3.6.0)\n",
      "Requirement already satisfied: pyparsing<3,>=2.0.2 in /home/ec2-user/anaconda3/envs/python3/lib/python3.6/site-packages (from packaging>=20.0->spacy) (2.4.7)\n",
      "Requirement already satisfied: smart-open<6.0.0,>=5.0.0 in /home/ec2-user/anaconda3/envs/python3/lib/python3.6/site-packages (from pathy>=0.3.5->spacy) (5.2.1)\n",
      "Requirement already satisfied: dataclasses<1.0,>=0.6 in /home/ec2-user/anaconda3/envs/python3/lib/python3.6/site-packages (from pathy>=0.3.5->spacy) (0.8)\n",
      "Requirement already satisfied: urllib3<1.27,>=1.21.1 in /home/ec2-user/anaconda3/envs/python3/lib/python3.6/site-packages (from requests<3.0.0,>=2.13.0->spacy) (1.26.7)\n",
      "Requirement already satisfied: charset-normalizer~=2.0.0 in /home/ec2-user/anaconda3/envs/python3/lib/python3.6/site-packages (from requests<3.0.0,>=2.13.0->spacy) (2.0.7)\n",
      "Requirement already satisfied: idna<4,>=2.5 in /home/ec2-user/anaconda3/envs/python3/lib/python3.6/site-packages (from requests<3.0.0,>=2.13.0->spacy) (3.3)\n",
      "Requirement already satisfied: certifi>=2017.4.17 in /home/ec2-user/anaconda3/envs/python3/lib/python3.6/site-packages (from requests<3.0.0,>=2.13.0->spacy) (2021.10.8)\n",
      "Requirement already satisfied: contextvars<3,>=2.4 in /home/ec2-user/anaconda3/envs/python3/lib/python3.6/site-packages (from thinc<8.1.0,>=8.0.12->spacy) (2.4)\n",
      "Requirement already satisfied: immutables>=0.9 in /home/ec2-user/anaconda3/envs/python3/lib/python3.6/site-packages (from contextvars<3,>=2.4->thinc<8.1.0,>=8.0.12->spacy) (0.15)\n",
      "Requirement already satisfied: click<9.0.0,>=7.1.1 in /home/ec2-user/anaconda3/envs/python3/lib/python3.6/site-packages (from typer<0.5.0,>=0.3.0->spacy) (7.1.2)\n",
      "Requirement already satisfied: MarkupSafe>=0.23 in /home/ec2-user/anaconda3/envs/python3/lib/python3.6/site-packages (from jinja2->spacy) (1.1.1)\n",
      "\u001b[33mWARNING: You are using pip version 21.2.4; however, version 21.3.1 is available.\n",
      "You should consider upgrading via the '/home/ec2-user/anaconda3/envs/python3/bin/python -m pip install --upgrade pip' command.\u001b[0m\n",
      "Collecting en-core-web-sm==3.2.0\n",
      "  Downloading https://github.com/explosion/spacy-models/releases/download/en_core_web_sm-3.2.0/en_core_web_sm-3.2.0-py3-none-any.whl (13.9 MB)\n",
      "\u001b[K     |████████████████████████████████| 13.9 MB 23.1 MB/s eta 0:00:01\n",
      "\u001b[?25hRequirement already satisfied: spacy<3.3.0,>=3.2.0 in /home/ec2-user/anaconda3/envs/python3/lib/python3.6/site-packages (from en-core-web-sm==3.2.0) (3.2.0)\n",
      "Requirement already satisfied: pathy>=0.3.5 in /home/ec2-user/anaconda3/envs/python3/lib/python3.6/site-packages (from spacy<3.3.0,>=3.2.0->en-core-web-sm==3.2.0) (0.6.1)\n",
      "Requirement already satisfied: spacy-loggers<2.0.0,>=1.0.0 in /home/ec2-user/anaconda3/envs/python3/lib/python3.6/site-packages (from spacy<3.3.0,>=3.2.0->en-core-web-sm==3.2.0) (1.0.1)\n",
      "Requirement already satisfied: requests<3.0.0,>=2.13.0 in /home/ec2-user/anaconda3/envs/python3/lib/python3.6/site-packages (from spacy<3.3.0,>=3.2.0->en-core-web-sm==3.2.0) (2.26.0)\n",
      "Requirement already satisfied: jinja2 in /home/ec2-user/anaconda3/envs/python3/lib/python3.6/site-packages (from spacy<3.3.0,>=3.2.0->en-core-web-sm==3.2.0) (2.11.3)\n",
      "Requirement already satisfied: wasabi<1.1.0,>=0.8.1 in /home/ec2-user/anaconda3/envs/python3/lib/python3.6/site-packages (from spacy<3.3.0,>=3.2.0->en-core-web-sm==3.2.0) (0.8.2)\n",
      "Requirement already satisfied: pydantic!=1.8,!=1.8.1,<1.9.0,>=1.7.4 in /home/ec2-user/anaconda3/envs/python3/lib/python3.6/site-packages (from spacy<3.3.0,>=3.2.0->en-core-web-sm==3.2.0) (1.8.2)\n",
      "Requirement already satisfied: numpy>=1.15.0 in /home/ec2-user/anaconda3/envs/python3/lib/python3.6/site-packages (from spacy<3.3.0,>=3.2.0->en-core-web-sm==3.2.0) (1.19.5)\n",
      "Requirement already satisfied: typing-extensions<4.0.0.0,>=3.7.4 in /home/ec2-user/anaconda3/envs/python3/lib/python3.6/site-packages (from spacy<3.3.0,>=3.2.0->en-core-web-sm==3.2.0) (3.10.0.2)\n",
      "Requirement already satisfied: thinc<8.1.0,>=8.0.12 in /home/ec2-user/anaconda3/envs/python3/lib/python3.6/site-packages (from spacy<3.3.0,>=3.2.0->en-core-web-sm==3.2.0) (8.0.13)\n",
      "Requirement already satisfied: langcodes<4.0.0,>=3.2.0 in /home/ec2-user/anaconda3/envs/python3/lib/python3.6/site-packages (from spacy<3.3.0,>=3.2.0->en-core-web-sm==3.2.0) (3.3.0)\n",
      "Requirement already satisfied: spacy-legacy<3.1.0,>=3.0.8 in /home/ec2-user/anaconda3/envs/python3/lib/python3.6/site-packages (from spacy<3.3.0,>=3.2.0->en-core-web-sm==3.2.0) (3.0.8)\n",
      "Requirement already satisfied: cymem<2.1.0,>=2.0.2 in /home/ec2-user/anaconda3/envs/python3/lib/python3.6/site-packages (from spacy<3.3.0,>=3.2.0->en-core-web-sm==3.2.0) (2.0.6)\n",
      "Requirement already satisfied: typer<0.5.0,>=0.3.0 in /home/ec2-user/anaconda3/envs/python3/lib/python3.6/site-packages (from spacy<3.3.0,>=3.2.0->en-core-web-sm==3.2.0) (0.4.0)\n",
      "Requirement already satisfied: preshed<3.1.0,>=3.0.2 in /home/ec2-user/anaconda3/envs/python3/lib/python3.6/site-packages (from spacy<3.3.0,>=3.2.0->en-core-web-sm==3.2.0) (3.0.6)\n",
      "Requirement already satisfied: tqdm<5.0.0,>=4.38.0 in /home/ec2-user/anaconda3/envs/python3/lib/python3.6/site-packages (from spacy<3.3.0,>=3.2.0->en-core-web-sm==3.2.0) (4.62.3)\n",
      "Requirement already satisfied: setuptools in /home/ec2-user/anaconda3/envs/python3/lib/python3.6/site-packages (from spacy<3.3.0,>=3.2.0->en-core-web-sm==3.2.0) (58.5.3)\n",
      "Requirement already satisfied: packaging>=20.0 in /home/ec2-user/anaconda3/envs/python3/lib/python3.6/site-packages (from spacy<3.3.0,>=3.2.0->en-core-web-sm==3.2.0) (21.2)\n",
      "Requirement already satisfied: blis<0.8.0,>=0.4.0 in /home/ec2-user/anaconda3/envs/python3/lib/python3.6/site-packages (from spacy<3.3.0,>=3.2.0->en-core-web-sm==3.2.0) (0.7.5)\n",
      "Requirement already satisfied: catalogue<2.1.0,>=2.0.6 in /home/ec2-user/anaconda3/envs/python3/lib/python3.6/site-packages (from spacy<3.3.0,>=3.2.0->en-core-web-sm==3.2.0) (2.0.6)\n",
      "Requirement already satisfied: srsly<3.0.0,>=2.4.1 in /home/ec2-user/anaconda3/envs/python3/lib/python3.6/site-packages (from spacy<3.3.0,>=3.2.0->en-core-web-sm==3.2.0) (2.4.2)\n",
      "Requirement already satisfied: murmurhash<1.1.0,>=0.28.0 in /home/ec2-user/anaconda3/envs/python3/lib/python3.6/site-packages (from spacy<3.3.0,>=3.2.0->en-core-web-sm==3.2.0) (1.0.6)\n",
      "Requirement already satisfied: zipp>=0.5 in /home/ec2-user/anaconda3/envs/python3/lib/python3.6/site-packages (from catalogue<2.1.0,>=2.0.6->spacy<3.3.0,>=3.2.0->en-core-web-sm==3.2.0) (3.6.0)\n",
      "Requirement already satisfied: pyparsing<3,>=2.0.2 in /home/ec2-user/anaconda3/envs/python3/lib/python3.6/site-packages (from packaging>=20.0->spacy<3.3.0,>=3.2.0->en-core-web-sm==3.2.0) (2.4.7)\n",
      "Requirement already satisfied: dataclasses<1.0,>=0.6 in /home/ec2-user/anaconda3/envs/python3/lib/python3.6/site-packages (from pathy>=0.3.5->spacy<3.3.0,>=3.2.0->en-core-web-sm==3.2.0) (0.8)\n",
      "Requirement already satisfied: smart-open<6.0.0,>=5.0.0 in /home/ec2-user/anaconda3/envs/python3/lib/python3.6/site-packages (from pathy>=0.3.5->spacy<3.3.0,>=3.2.0->en-core-web-sm==3.2.0) (5.2.1)\n",
      "Requirement already satisfied: urllib3<1.27,>=1.21.1 in /home/ec2-user/anaconda3/envs/python3/lib/python3.6/site-packages (from requests<3.0.0,>=2.13.0->spacy<3.3.0,>=3.2.0->en-core-web-sm==3.2.0) (1.26.7)\n",
      "Requirement already satisfied: idna<4,>=2.5 in /home/ec2-user/anaconda3/envs/python3/lib/python3.6/site-packages (from requests<3.0.0,>=2.13.0->spacy<3.3.0,>=3.2.0->en-core-web-sm==3.2.0) (3.3)\n",
      "Requirement already satisfied: certifi>=2017.4.17 in /home/ec2-user/anaconda3/envs/python3/lib/python3.6/site-packages (from requests<3.0.0,>=2.13.0->spacy<3.3.0,>=3.2.0->en-core-web-sm==3.2.0) (2021.10.8)\n",
      "Requirement already satisfied: charset-normalizer~=2.0.0 in /home/ec2-user/anaconda3/envs/python3/lib/python3.6/site-packages (from requests<3.0.0,>=2.13.0->spacy<3.3.0,>=3.2.0->en-core-web-sm==3.2.0) (2.0.7)\n",
      "Requirement already satisfied: contextvars<3,>=2.4 in /home/ec2-user/anaconda3/envs/python3/lib/python3.6/site-packages (from thinc<8.1.0,>=8.0.12->spacy<3.3.0,>=3.2.0->en-core-web-sm==3.2.0) (2.4)\n",
      "Requirement already satisfied: immutables>=0.9 in /home/ec2-user/anaconda3/envs/python3/lib/python3.6/site-packages (from contextvars<3,>=2.4->thinc<8.1.0,>=8.0.12->spacy<3.3.0,>=3.2.0->en-core-web-sm==3.2.0) (0.15)\n",
      "Requirement already satisfied: click<9.0.0,>=7.1.1 in /home/ec2-user/anaconda3/envs/python3/lib/python3.6/site-packages (from typer<0.5.0,>=0.3.0->spacy<3.3.0,>=3.2.0->en-core-web-sm==3.2.0) (7.1.2)\n",
      "Requirement already satisfied: MarkupSafe>=0.23 in /home/ec2-user/anaconda3/envs/python3/lib/python3.6/site-packages (from jinja2->spacy<3.3.0,>=3.2.0->en-core-web-sm==3.2.0) (1.1.1)\n",
      "Installing collected packages: en-core-web-sm\n",
      "Successfully installed en-core-web-sm-3.2.0\n",
      "\u001b[33mWARNING: You are using pip version 21.2.4; however, version 21.3.1 is available.\n",
      "You should consider upgrading via the '/home/ec2-user/anaconda3/envs/python3/bin/python -m pip install --upgrade pip' command.\u001b[0m\n",
      "\u001b[38;5;2m✔ Download and installation successful\u001b[0m\n",
      "You can now load the package via spacy.load('en_core_web_sm')\n"
     ]
    }
   ],
   "source": [
    "!pip install spacy\n",
    "!python -m spacy download en_core_web_sm\n",
    "import spacy\n",
    "import en_core_web_sm\n",
    "nlp = en_core_web_sm.load()"
   ]
  },
  {
   "cell_type": "markdown",
   "id": "f69fc6d5",
   "metadata": {},
   "source": [
    "We import regular expression python package here."
   ]
  },
  {
   "cell_type": "code",
   "execution_count": 47,
   "id": "83cd888b",
   "metadata": {},
   "outputs": [],
   "source": [
    "import re"
   ]
  },
  {
   "cell_type": "markdown",
   "id": "afbe70e6",
   "metadata": {},
   "source": [
    "We use regular expression to take out all the punctuations in the sample text and get the text without any punctuations, because we don't consider punctuations as part of the text when we compare accuracy between different inputs."
   ]
  },
  {
   "cell_type": "code",
   "execution_count": 48,
   "id": "2120d975",
   "metadata": {},
   "outputs": [],
   "source": [
    "# open the sample text file\n",
    "with open(\"AlexaSample.txt\", \"r\") as f:\n",
    "    sampleText = f.read()\n",
    "sampleText = re.sub(r'[^\\w\\s]','',sampleText)"
   ]
  },
  {
   "cell_type": "markdown",
   "id": "066fec37",
   "metadata": {},
   "source": [
    "Assuming Amazon Transcribe generally has a high accuracy of transcribing audio, we use a python dictionary data structure to count the number of occurences of each word."
   ]
  },
  {
   "cell_type": "code",
   "execution_count": 55,
   "id": "9a908c16",
   "metadata": {},
   "outputs": [],
   "source": [
    "# create sample dictionary \n",
    "# we are assuming that aws transcription only have minor mistakes in transcribing texts\n",
    "sample = nlp(sampleText)\n",
    "sampleToken = [token.lemma_.lower() for token in sample]\n",
    "sampledict={}\n",
    "for word in sampleToken:\n",
    "    if word in sampledict:\n",
    "        sampledict[word] += 1\n",
    "    else:\n",
    "        sampledict[word] = 1"
   ]
  },
  {
   "cell_type": "markdown",
   "id": "78dfb8ac",
   "metadata": {},
   "source": [
    "Now we get all the text file input that is pre-processed earlier in the project."
   ]
  },
  {
   "cell_type": "code",
   "execution_count": 41,
   "id": "b71eceac",
   "metadata": {},
   "outputs": [],
   "source": [
    "textlist = !ls finalTranscriptions"
   ]
  },
  {
   "cell_type": "markdown",
   "id": "622b23be",
   "metadata": {},
   "source": [
    "We first take out all the punctuations in the text file, and then count the number of occurences of each word in the text. We compare the number of occurences of each word with the sample text word occurences to determine the accuracy for each text input, and then store the accuracy of each text in a dictionary."
   ]
  },
  {
   "cell_type": "code",
   "execution_count": 58,
   "id": "764c13a3",
   "metadata": {},
   "outputs": [
    {
     "data": {
      "text/plain": [
       "{'nativeFemale1': 0.922077922077922,\n",
       " 'nativeFemale2': 0.948051948051948,\n",
       " 'nativeFemale3': 0.7402597402597403,\n",
       " 'nativeFemale4': 0.987012987012987,\n",
       " 'nativeFemale5': 0.922077922077922,\n",
       " 'nativeMale1': 0.987012987012987,\n",
       " 'nativeMale2': 0.987012987012987,\n",
       " 'nativeMale3': 0.987012987012987,\n",
       " 'nativeMale4': 0.987012987012987,\n",
       " 'nativeMale5': 0.987012987012987,\n",
       " 'nonNativeFemale1': 0.6363636363636364,\n",
       " 'nonNativeFemale2': 0.8961038961038961,\n",
       " 'nonNativeFemale3': 0.8831168831168831,\n",
       " 'nonNativeFemale4': 0.922077922077922,\n",
       " 'nonNativeFemale5': 0.8701298701298701,\n",
       " 'nonNativeMale1': 0.948051948051948,\n",
       " 'nonNativeMale2': 0.961038961038961,\n",
       " 'nonNativeMale3': 0.7792207792207793,\n",
       " 'nonNativeMale4': 0.974025974025974,\n",
       " 'nonNativeMale5': 0.987012987012987}"
      ]
     },
     "execution_count": 58,
     "metadata": {},
     "output_type": "execute_result"
    }
   ],
   "source": [
    "result = {}\n",
    "for filename in textlist:\n",
    "    with open('finalTranscriptions/'+filename, 'r') as f:\n",
    "        inputText = f.read()\n",
    "    inputText = re.sub(r'[^\\w\\s]','',inputText)\n",
    "    doc = nlp(inputText)\n",
    "    docToken = [token.lemma_.lower() for token in doc]\n",
    "    dict = {}\n",
    "    for word in docToken:\n",
    "        if word in dict:\n",
    "            dict[word] += 1\n",
    "        else:\n",
    "            dict[word] = 1\n",
    "    corrCount = 0\n",
    "    for key in sampledict:\n",
    "        if key in dict:\n",
    "            if sampledict[key] == dict[key]:\n",
    "                corrCount += sampledict[key]\n",
    "    result[filename[0:len(filename)-4]] = corrCount/len(sampleToken)"
   ]
  },
  {
   "cell_type": "markdown",
   "id": "410299e3",
   "metadata": {},
   "source": [
    "To make further analysis and visualization easier, we assgin numerical values to categorical variables to determine whether a data input is native or non-native, male or female. Specially, 1 represents true, whereas 0 represents false. For example, if a data we collect is female=1 and native=0, it means it is a female non-native speaker. "
   ]
  },
  {
   "cell_type": "code",
   "execution_count": 83,
   "id": "7c0b7ae2",
   "metadata": {},
   "outputs": [],
   "source": [
    "# 1 represents true, 0 represents false\n",
    "dfdict = {}\n",
    "for key in result:\n",
    "    if key[0:6] == 'native':\n",
    "        Native = 1\n",
    "        if key[6:10] == 'Male':\n",
    "            Female = 0\n",
    "        else:\n",
    "            Female = 1\n",
    "    else:\n",
    "        Native = 0\n",
    "        if key[9:13] == 'Male':\n",
    "            Female = 0\n",
    "        else:\n",
    "            Female = 1\n",
    "    dfdict[key] = [result[key], Native, Female]"
   ]
  },
  {
   "cell_type": "markdown",
   "id": "5228fe2e",
   "metadata": {},
   "source": [
    "We make the pandas data frame a csv file, which is convenient for doing data analysis and visualization later."
   ]
  },
  {
   "cell_type": "code",
   "execution_count": 85,
   "id": "9a4cbe4f",
   "metadata": {},
   "outputs": [],
   "source": [
    "df = pd.DataFrame.from_dict(dfdict, orient='index', columns = [\"Accuracy\",\"Native\", \"Female\"])\n",
    "df.to_csv('Accuracy.csv', encoding='utf-8', index=False)"
   ]
  },
  {
   "cell_type": "markdown",
   "id": "7ee1bc43",
   "metadata": {},
   "source": [
    "Here is an overview of our newly created csv file:"
   ]
  },
  {
   "cell_type": "markdown",
   "id": "57c8957f",
   "metadata": {},
   "source": [
    "<img src=\"https://github.com/cindyfangw/QTM350/blob/facea475c1692a7c1d9fdfdb3c80a2901f272e16/Screen%20Shot%202021-11-29%20at%2012.39.23%20AM.png?raw=true\"\n",
    "     width=\"200\" height=\"150\">"
   ]
  },
  {
   "cell_type": "markdown",
   "id": "f7b8d25a",
   "metadata": {},
   "source": [
    "### Data Visualization"
   ]
  },
  {
   "cell_type": "markdown",
   "id": "e4efbc52",
   "metadata": {},
   "source": [
    "Here we load necessary packages for plotting and then download related files directly from github. The file, Accuracy.csv, contains the percentage accuracy of each text input transcribed by Amazon Transcribe compared with the original script."
   ]
  },
  {
   "cell_type": "code",
   "execution_count": 4,
   "id": "2f4c8a82",
   "metadata": {},
   "outputs": [
    {
     "data": {
      "text/html": [
       "<div>\n",
       "<style scoped>\n",
       "    .dataframe tbody tr th:only-of-type {\n",
       "        vertical-align: middle;\n",
       "    }\n",
       "\n",
       "    .dataframe tbody tr th {\n",
       "        vertical-align: top;\n",
       "    }\n",
       "\n",
       "    .dataframe thead th {\n",
       "        text-align: right;\n",
       "    }\n",
       "</style>\n",
       "<table border=\"1\" class=\"dataframe\">\n",
       "  <thead>\n",
       "    <tr style=\"text-align: right;\">\n",
       "      <th></th>\n",
       "      <th>Accuracy</th>\n",
       "      <th>Native</th>\n",
       "      <th>Female</th>\n",
       "    </tr>\n",
       "  </thead>\n",
       "  <tbody>\n",
       "    <tr>\n",
       "      <th>0</th>\n",
       "      <td>0.922078</td>\n",
       "      <td>1</td>\n",
       "      <td>1</td>\n",
       "    </tr>\n",
       "    <tr>\n",
       "      <th>1</th>\n",
       "      <td>0.948052</td>\n",
       "      <td>1</td>\n",
       "      <td>1</td>\n",
       "    </tr>\n",
       "    <tr>\n",
       "      <th>2</th>\n",
       "      <td>0.740260</td>\n",
       "      <td>1</td>\n",
       "      <td>1</td>\n",
       "    </tr>\n",
       "    <tr>\n",
       "      <th>3</th>\n",
       "      <td>0.987013</td>\n",
       "      <td>1</td>\n",
       "      <td>1</td>\n",
       "    </tr>\n",
       "    <tr>\n",
       "      <th>4</th>\n",
       "      <td>0.922078</td>\n",
       "      <td>1</td>\n",
       "      <td>1</td>\n",
       "    </tr>\n",
       "    <tr>\n",
       "      <th>5</th>\n",
       "      <td>0.987013</td>\n",
       "      <td>1</td>\n",
       "      <td>0</td>\n",
       "    </tr>\n",
       "    <tr>\n",
       "      <th>6</th>\n",
       "      <td>0.987013</td>\n",
       "      <td>1</td>\n",
       "      <td>0</td>\n",
       "    </tr>\n",
       "    <tr>\n",
       "      <th>7</th>\n",
       "      <td>0.987013</td>\n",
       "      <td>1</td>\n",
       "      <td>0</td>\n",
       "    </tr>\n",
       "    <tr>\n",
       "      <th>8</th>\n",
       "      <td>0.987013</td>\n",
       "      <td>1</td>\n",
       "      <td>0</td>\n",
       "    </tr>\n",
       "    <tr>\n",
       "      <th>9</th>\n",
       "      <td>0.987013</td>\n",
       "      <td>1</td>\n",
       "      <td>0</td>\n",
       "    </tr>\n",
       "    <tr>\n",
       "      <th>10</th>\n",
       "      <td>0.636364</td>\n",
       "      <td>0</td>\n",
       "      <td>1</td>\n",
       "    </tr>\n",
       "    <tr>\n",
       "      <th>11</th>\n",
       "      <td>0.896104</td>\n",
       "      <td>0</td>\n",
       "      <td>1</td>\n",
       "    </tr>\n",
       "    <tr>\n",
       "      <th>12</th>\n",
       "      <td>0.883117</td>\n",
       "      <td>0</td>\n",
       "      <td>1</td>\n",
       "    </tr>\n",
       "    <tr>\n",
       "      <th>13</th>\n",
       "      <td>0.922078</td>\n",
       "      <td>0</td>\n",
       "      <td>1</td>\n",
       "    </tr>\n",
       "    <tr>\n",
       "      <th>14</th>\n",
       "      <td>0.870130</td>\n",
       "      <td>0</td>\n",
       "      <td>1</td>\n",
       "    </tr>\n",
       "    <tr>\n",
       "      <th>15</th>\n",
       "      <td>0.948052</td>\n",
       "      <td>0</td>\n",
       "      <td>0</td>\n",
       "    </tr>\n",
       "    <tr>\n",
       "      <th>16</th>\n",
       "      <td>0.961039</td>\n",
       "      <td>0</td>\n",
       "      <td>0</td>\n",
       "    </tr>\n",
       "    <tr>\n",
       "      <th>17</th>\n",
       "      <td>0.779221</td>\n",
       "      <td>0</td>\n",
       "      <td>0</td>\n",
       "    </tr>\n",
       "    <tr>\n",
       "      <th>18</th>\n",
       "      <td>0.974026</td>\n",
       "      <td>0</td>\n",
       "      <td>0</td>\n",
       "    </tr>\n",
       "    <tr>\n",
       "      <th>19</th>\n",
       "      <td>0.987013</td>\n",
       "      <td>0</td>\n",
       "      <td>0</td>\n",
       "    </tr>\n",
       "  </tbody>\n",
       "</table>\n",
       "</div>"
      ],
      "text/plain": [
       "    Accuracy  Native  Female\n",
       "0   0.922078       1       1\n",
       "1   0.948052       1       1\n",
       "2   0.740260       1       1\n",
       "3   0.987013       1       1\n",
       "4   0.922078       1       1\n",
       "5   0.987013       1       0\n",
       "6   0.987013       1       0\n",
       "7   0.987013       1       0\n",
       "8   0.987013       1       0\n",
       "9   0.987013       1       0\n",
       "10  0.636364       0       1\n",
       "11  0.896104       0       1\n",
       "12  0.883117       0       1\n",
       "13  0.922078       0       1\n",
       "14  0.870130       0       1\n",
       "15  0.948052       0       0\n",
       "16  0.961039       0       0\n",
       "17  0.779221       0       0\n",
       "18  0.974026       0       0\n",
       "19  0.987013       0       0"
      ]
     },
     "execution_count": 4,
     "metadata": {},
     "output_type": "execute_result"
    }
   ],
   "source": [
    "import pandas as pd\n",
    "import matplotlib.pyplot as plot\n",
    "import numpy as np\n",
    "\n",
    "url_data = (r'https://raw.githubusercontent.com/YongqiZhang-1/QTM350-Final/main/Accuracy.csv')\n",
    "\n",
    "data_csv = pd.read_csv(url_data)\n",
    "\n",
    "data_csv"
   ]
  },
  {
   "cell_type": "markdown",
   "id": "88328ece",
   "metadata": {},
   "source": [
    "Native and Female columns are boolean columns in which 1 indicates true and 0 indicates false."
   ]
  },
  {
   "cell_type": "code",
   "execution_count": 5,
   "id": "7667b775",
   "metadata": {},
   "outputs": [
    {
     "data": {
      "text/html": [
       "<div>\n",
       "<style scoped>\n",
       "    .dataframe tbody tr th:only-of-type {\n",
       "        vertical-align: middle;\n",
       "    }\n",
       "\n",
       "    .dataframe tbody tr th {\n",
       "        vertical-align: top;\n",
       "    }\n",
       "\n",
       "    .dataframe thead th {\n",
       "        text-align: right;\n",
       "    }\n",
       "</style>\n",
       "<table border=\"1\" class=\"dataframe\">\n",
       "  <thead>\n",
       "    <tr style=\"text-align: right;\">\n",
       "      <th></th>\n",
       "      <th>Native</th>\n",
       "      <th>Accuracy</th>\n",
       "    </tr>\n",
       "  </thead>\n",
       "  <tbody>\n",
       "    <tr>\n",
       "      <th>0</th>\n",
       "      <td>0</td>\n",
       "      <td>0.885714</td>\n",
       "    </tr>\n",
       "    <tr>\n",
       "      <th>1</th>\n",
       "      <td>1</td>\n",
       "      <td>0.945455</td>\n",
       "    </tr>\n",
       "  </tbody>\n",
       "</table>\n",
       "</div>"
      ],
      "text/plain": [
       "   Native  Accuracy\n",
       "0       0  0.885714\n",
       "1       1  0.945455"
      ]
     },
     "execution_count": 5,
     "metadata": {},
     "output_type": "execute_result"
    }
   ],
   "source": [
    "native = data_csv.groupby('Native', as_index=False)['Accuracy'].mean()\n",
    "native"
   ]
  },
  {
   "cell_type": "code",
   "execution_count": 6,
   "id": "2b7808bc",
   "metadata": {},
   "outputs": [
    {
     "data": {
      "image/png": "[encoded data removed]",
      "text/plain": [
       "<Figure size 432x288 with 1 Axes>"
      ]
     },
     "metadata": {
      "needs_background": "light"
     },
     "output_type": "display_data"
    }
   ],
   "source": [
    "native.plot.bar(x=\"Native\", y=\"Accuracy\", rot=0, title=\"Average Accuracy of Amazon Transcribe in Non-Native vs. Native Speakers\");\n",
    "\n",
    "plot.show(block=True);"
   ]
  },
  {
   "cell_type": "markdown",
   "id": "6d44ae07",
   "metadata": {},
   "source": [
    "From the bar chart above, as expected, we have a higher accuracy amongst Native speakers. We assume this is because as Amazon's algorithms are made better suited for American English accents."
   ]
  },
  {
   "cell_type": "code",
   "execution_count": 7,
   "id": "bfc27922",
   "metadata": {},
   "outputs": [
    {
     "data": {
      "text/html": [
       "<div>\n",
       "<style scoped>\n",
       "    .dataframe tbody tr th:only-of-type {\n",
       "        vertical-align: middle;\n",
       "    }\n",
       "\n",
       "    .dataframe tbody tr th {\n",
       "        vertical-align: top;\n",
       "    }\n",
       "\n",
       "    .dataframe thead th {\n",
       "        text-align: right;\n",
       "    }\n",
       "</style>\n",
       "<table border=\"1\" class=\"dataframe\">\n",
       "  <thead>\n",
       "    <tr style=\"text-align: right;\">\n",
       "      <th></th>\n",
       "      <th>Female</th>\n",
       "      <th>Accuracy</th>\n",
       "    </tr>\n",
       "  </thead>\n",
       "  <tbody>\n",
       "    <tr>\n",
       "      <th>0</th>\n",
       "      <td>0</td>\n",
       "      <td>0.958442</td>\n",
       "    </tr>\n",
       "    <tr>\n",
       "      <th>1</th>\n",
       "      <td>1</td>\n",
       "      <td>0.872727</td>\n",
       "    </tr>\n",
       "  </tbody>\n",
       "</table>\n",
       "</div>"
      ],
      "text/plain": [
       "   Female  Accuracy\n",
       "0       0  0.958442\n",
       "1       1  0.872727"
      ]
     },
     "execution_count": 7,
     "metadata": {},
     "output_type": "execute_result"
    }
   ],
   "source": [
    "gender = data_csv.groupby('Female', as_index=False)['Accuracy'].mean()\n",
    "gender"
   ]
  },
  {
   "cell_type": "code",
   "execution_count": 8,
   "id": "228f8c3f",
   "metadata": {},
   "outputs": [
    {
     "data": {
      "image/png": "[encoded data removed]",
      "text/plain": [
       "<Figure size 432x288 with 1 Axes>"
      ]
     },
     "metadata": {
      "needs_background": "light"
     },
     "output_type": "display_data"
    }
   ],
   "source": [
    "gender.plot.bar(x=\"Female\", y=\"Accuracy\", rot=0, title=\"Average Accuracy of Amazon Transcribe Based on Gender\");\n",
    "\n",
    "plot.show(block=True);"
   ]
  },
  {
   "cell_type": "markdown",
   "id": "e22f2959",
   "metadata": {},
   "source": [
    "From the bar chart above, we have a higher accuracy amongst male speakers. We assume this is because Amazon's algorithms are made better suited for male speakers because most of Amazon's corporate employees are male, who are the developers of programs like Amazon Transcribe, so they will naturally tend to develop algorithms and programs that are better suited to their needs and perspectives."
   ]
  },
  {
   "cell_type": "code",
   "execution_count": 9,
   "id": "d4f63a73",
   "metadata": {},
   "outputs": [
    {
     "data": {
      "text/html": [
       "<div>\n",
       "<style scoped>\n",
       "    .dataframe tbody tr th:only-of-type {\n",
       "        vertical-align: middle;\n",
       "    }\n",
       "\n",
       "    .dataframe tbody tr th {\n",
       "        vertical-align: top;\n",
       "    }\n",
       "\n",
       "    .dataframe thead th {\n",
       "        text-align: right;\n",
       "    }\n",
       "</style>\n",
       "<table border=\"1\" class=\"dataframe\">\n",
       "  <thead>\n",
       "    <tr style=\"text-align: right;\">\n",
       "      <th></th>\n",
       "      <th>Native</th>\n",
       "      <th>Female</th>\n",
       "      <th>Accuracy</th>\n",
       "    </tr>\n",
       "  </thead>\n",
       "  <tbody>\n",
       "    <tr>\n",
       "      <th>0</th>\n",
       "      <td>0</td>\n",
       "      <td>0</td>\n",
       "      <td>0.929870</td>\n",
       "    </tr>\n",
       "    <tr>\n",
       "      <th>1</th>\n",
       "      <td>0</td>\n",
       "      <td>1</td>\n",
       "      <td>0.841558</td>\n",
       "    </tr>\n",
       "    <tr>\n",
       "      <th>2</th>\n",
       "      <td>1</td>\n",
       "      <td>0</td>\n",
       "      <td>0.987013</td>\n",
       "    </tr>\n",
       "    <tr>\n",
       "      <th>3</th>\n",
       "      <td>1</td>\n",
       "      <td>1</td>\n",
       "      <td>0.903896</td>\n",
       "    </tr>\n",
       "  </tbody>\n",
       "</table>\n",
       "</div>"
      ],
      "text/plain": [
       "   Native  Female  Accuracy\n",
       "0       0       0  0.929870\n",
       "1       0       1  0.841558\n",
       "2       1       0  0.987013\n",
       "3       1       1  0.903896"
      ]
     },
     "execution_count": 9,
     "metadata": {},
     "output_type": "execute_result"
    }
   ],
   "source": [
    "native_female = data_csv.groupby(['Native', 'Female'], as_index=False)['Accuracy'].mean()\n",
    "native_female"
   ]
  },
  {
   "cell_type": "code",
   "execution_count": 10,
   "id": "3c39becb",
   "metadata": {},
   "outputs": [
    {
     "data": {
      "image/png": "[encoded data removed]",
      "text/plain": [
       "<Figure size 432x288 with 1 Axes>"
      ]
     },
     "metadata": {
      "needs_background": "light"
     },
     "output_type": "display_data"
    }
   ],
   "source": [
    "native_female.plot.bar(y=\"Accuracy\", rot=0, title=\"Average Accuracy of Amazon Transcribe in Non-Native vs. Native Speakers and Gender\");\n",
    "bars = ('Non-Native & Male', 'Non-Native & Female', 'Native & Male', 'Native & Female')\n",
    "y_pos = np.arange(len(bars))\n",
    "plot.xticks(y_pos, bars, fontsize='8')\n",
    "\n",
    "plot.show(block=True);"
   ]
  },
  {
   "cell_type": "markdown",
   "id": "18eaa16e",
   "metadata": {},
   "source": [
    "Interestingly, non-native & male and native & male have higher accuracies compared to their female counterparts. Non-native & male has a higher accuracy than native & female. This could be due to the way Amazon's algorithms have a particular bias for lower male voices due to the overwhelming abundance of men in the tech industry, who are the creators of the Amazon programs we are using in our experiment."
   ]
  },
  {
   "cell_type": "markdown",
   "id": "dc2a8973",
   "metadata": {},
   "source": [
    "##### Comparing the transcribe's performance on native and non-native voice input"
   ]
  },
  {
   "cell_type": "code",
   "execution_count": 12,
   "id": "dd0a1d38",
   "metadata": {},
   "outputs": [],
   "source": [
    "from matplotlib import pyplot as plt"
   ]
  },
  {
   "cell_type": "markdown",
   "id": "d3028668",
   "metadata": {},
   "source": [
    "We also try to visualize the result by using boxplots since boxplots could show the distribution of the accuracy among different group of people.\n",
    "\n",
    "The boxplots show the same conclusion as bar plots, which confirmed the conclusion drawn from the barplot."
   ]
  },
  {
   "cell_type": "code",
   "execution_count": 13,
   "id": "dea9e67a",
   "metadata": {},
   "outputs": [
    {
     "data": {
      "image/png": "[encoded data removed]",
      "text/plain": [
       "<Figure size 432x288 with 1 Axes>"
      ]
     },
     "metadata": {
      "needs_background": "light"
     },
     "output_type": "display_data"
    }
   ],
   "source": [
    "acc = pd.read_csv(url_data)\n",
    "native = acc.loc[acc['Native'] == 1]\n",
    "non_native = acc.loc[acc['Native'] == 0]\n",
    "data_accent = [native.Accuracy, non_native.Accuracy]\n",
    "plt.boxplot(data_accent)\n",
    "plt.xticks([1, 2], [\"Native\", \"Non-native\"])\n",
    "plt.show()"
   ]
  },
  {
   "cell_type": "markdown",
   "id": "7d2503d5",
   "metadata": {},
   "source": [
    "As shown above, Amazon transcribes performed better (with a higher accuracy score) on transcribing native people's voices into the text than transcribing non-native speakers' voice input."
   ]
  },
  {
   "cell_type": "markdown",
   "id": "95f73166",
   "metadata": {},
   "source": [
    "##### Comparing the transcribe's performance on native and non-native with gender differences voice input"
   ]
  },
  {
   "cell_type": "markdown",
   "id": "a31d4d87",
   "metadata": {},
   "source": [
    "Besides visualizing the result in native and non-native, we also analyzed the result by gender for two reasons: first, we want to know if Amazon transcribe performs differently in different gender voices. Second, we want to know whether Amazon Transcribe perform better in a certain group."
   ]
  },
  {
   "cell_type": "code",
   "execution_count": 14,
   "id": "f35c7320",
   "metadata": {},
   "outputs": [],
   "source": [
    "n_female = acc.loc[(acc['Native'] == 1) & (acc['Female'] == 1)]\n",
    "nonn_female = acc.loc[(acc['Native'] == 0) & (acc['Female'] == 1)]\n",
    "n_male = acc.loc[(acc['Native'] == 1) & (acc['Female'] == 0)]\n",
    "nonn_male = acc.loc[(acc['Native'] == 0) & (acc['Female'] == 0)]\n",
    "data = [n_female.Accuracy,nonn_female.Accuracy,n_male.Accuracy,nonn_male.Accuracy]"
   ]
  },
  {
   "cell_type": "code",
   "execution_count": 15,
   "id": "0c13547f",
   "metadata": {},
   "outputs": [
    {
     "data": {
      "image/png": "[encoded data removed]",
      "text/plain": [
       "<Figure size 432x288 with 1 Axes>"
      ]
     },
     "metadata": {
      "needs_background": "light"
     },
     "output_type": "display_data"
    }
   ],
   "source": [
    "plt.xticks([1, 2, 3, 4], [\"native female\", \"non-native female\", \"native male\", \"non-native male\"])\n",
    "plt.xticks(rotation = 30)\n",
    "plt.title('Accuracy in Non-Native vs. Native Speakers and Gender')\n",
    "plt.boxplot(data)\n",
    "plt.show()"
   ]
  },
  {
   "cell_type": "markdown",
   "id": "f7a04133",
   "metadata": {},
   "source": [
    "According to the plot, Amazon Transcribe performs best in transcribing native male voices, with almost 100% accuracy. The performance on Non-Native Male ranks second, with a higher average and 3rd quartile than its performance on Native-Female voice transcription."
   ]
  },
  {
   "cell_type": "markdown",
   "id": "d9d8496e",
   "metadata": {},
   "source": [
    "## Results and Discussion"
   ]
  },
  {
   "cell_type": "markdown",
   "id": "2a10640e",
   "metadata": {},
   "source": [
    "Based on the data analysis and visualization above, the distribution of our own data suggests that between native and non-native population, the highest accuracy lies within the native ones. The higher accuracy score of 0.945 indicates that the Amazon transcribes perform better on transcribing native people’s voices into the text than transcribing non-native speakers’ voice input, whose accuracy score is 0.886. After group dicussion, we think that this might be because that the native pronounces with less accent and potential bias that can cause Amazon Transcribe to misinterpret the voice messages. Furthermore, based on the second boxplot, we also analyzed the accuracy based on different gender voices. According to the boxplot, the accuracy score is the highest for native male of 0.987 accuracy score, indicating that Amazon Transcribe performs the best for the native male voices. The accuracy score is the second highest, for a 0.930 for non-native male, with a higher average and third quartile than its performance on the native-female voice transcription. We can deduce that male is generally more clearly interpreted and understood by Amazon Transcribe of potentially reasons that male are more dominant and present in the technology industry. As a result, the product designed are more likely to cater to the most dominant population – native male, following by non-native male."
   ]
  },
  {
   "cell_type": "markdown",
   "id": "65e1aca7",
   "metadata": {},
   "source": [
    "## For more information of our project, please check our Github Repo: \n",
    "\n",
    "https://github.com/YongqiZhang-1/QTM350-Final"
   ]
  },
  {
   "cell_type": "code",
   "execution_count": null,
   "id": "ad9f31e3",
   "metadata": {},
   "outputs": [],
   "source": []
  }
 ],
 "metadata": {
  "kernelspec": {
   "display_name": "conda_python3",
   "language": "python",
   "name": "conda_python3"
  },
  "language_info": {
   "codemirror_mode": {
    "name": "ipython",
    "version": 3
   },
   "file_extension": ".py",
   "mimetype": "text/x-python",
   "name": "python",
   "nbconvert_exporter": "python",
   "pygments_lexer": "ipython3",
   "version": "3.6.13"
  }
 },
 "nbformat": 4,
 "nbformat_minor": 5
}
